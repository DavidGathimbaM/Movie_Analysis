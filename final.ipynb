{
 "cells": [
  {
   "cell_type": "markdown",
   "metadata": {},
   "source": [
    "## Project Overview\n",
    "In this project, we aim to provide insights for Microsoft's new movie studio by analyzing movie data from Box Office Mojo and TMDB. The business problem is to understand which types of films are currently successful at the box office. We will use the bom.movie_gross.csv and tmdb.movies.csv datasets to explore film genres, ratings, and earnings. Our analysis will involve data cleaning, exploration, and visualization using pandas and seaborn. Based on our findings, we will offer recommendations to help Microsoft decide what types of films to produce."
   ]
  },
  {
   "cell_type": "markdown",
   "metadata": {},
   "source": [
    "## Business Problem:\n",
    "Microsoft wants to enter the movie industry but lacks insights into what types of films are currently successful. The key questions we aim to answer are:\n",
    "\n",
    "What genres are performing best at the box office?\n",
    "What is the relationship between movie ratings and earnings?\n",
    "How do box office earnings vary across different genres?\n",
    "These questions are crucial for Microsoft to make informed decisions about the types of films to create, ensuring they invest in genres that attract large audiences and generate high revenue."
   ]
  },
  {
   "cell_type": "markdown",
   "metadata": {},
   "source": [
    "### Data Understanding:\n",
    "The data for this project comes from Box Office Mojo and IMDB."
   ]
  },
  {
   "cell_type": "code",
   "execution_count": 25,
   "metadata": {},
   "outputs": [],
   "source": [
    "# import packages\n",
    "import pandas as pd\n",
    "import csv\n",
    "import numpy as np\n",
    "import matplotlib.pyplot as plt\n",
    "import seaborn as sns"
   ]
  },
  {
   "cell_type": "code",
   "execution_count": 3,
   "metadata": {},
   "outputs": [
    {
     "name": "stdout",
     "output_type": "stream",
     "text": [
      "                                         title studio  domestic_gross  \\\n",
      "0                                  Toy Story 3     BV     415000000.0   \n",
      "1                   Alice in Wonderland (2010)     BV     334200000.0   \n",
      "2  Harry Potter and the Deathly Hallows Part 1     WB     296000000.0   \n",
      "3                                    Inception     WB     292600000.0   \n",
      "4                          Shrek Forever After   P/DW     238700000.0   \n",
      "\n",
      "  foreign_gross  year  \n",
      "0     652000000  2010  \n",
      "1     691300000  2010  \n",
      "2     664300000  2010  \n",
      "3     535700000  2010  \n",
      "4     513900000  2010  \n",
      "   Unnamed: 0            genre_ids     id original_language  \\\n",
      "0           0      [12, 14, 10751]  12444                en   \n",
      "1           1  [14, 12, 16, 10751]  10191                en   \n",
      "2           2        [12, 28, 878]  10138                en   \n",
      "3           3      [16, 35, 10751]    862                en   \n",
      "4           4        [28, 878, 12]  27205                en   \n",
      "\n",
      "                                 original_title  popularity release_date  \\\n",
      "0  Harry Potter and the Deathly Hallows: Part 1      33.533   2010-11-19   \n",
      "1                      How to Train Your Dragon      28.734   2010-03-26   \n",
      "2                                    Iron Man 2      28.515   2010-05-07   \n",
      "3                                     Toy Story      28.005   1995-11-22   \n",
      "4                                     Inception      27.920   2010-07-16   \n",
      "\n",
      "                                          title  vote_average  vote_count  \n",
      "0  Harry Potter and the Deathly Hallows: Part 1           7.7       10788  \n",
      "1                      How to Train Your Dragon           7.7        7610  \n",
      "2                                    Iron Man 2           6.8       12368  \n",
      "3                                     Toy Story           7.9       10174  \n",
      "4                                     Inception           8.3       22186  \n"
     ]
    }
   ],
   "source": [
    "# load data\n",
    "df1 = pd.read_csv('Data/bom.movie_gross.csv')\n",
    "df2 = pd.read_csv('Data/tmdb.movies.csv')\n",
    "\n",
    "# inspect the data\n",
    "print(df1.head())\n",
    "print(df2.head())"
   ]
  },
  {
   "cell_type": "code",
   "execution_count": 4,
   "metadata": {},
   "outputs": [
    {
     "data": {
      "text/plain": [
       "Index(['title', 'studio', 'domestic_gross', 'foreign_gross', 'year'], dtype='object')"
      ]
     },
     "execution_count": 4,
     "metadata": {},
     "output_type": "execute_result"
    }
   ],
   "source": [
    "df1.columns"
   ]
  },
  {
   "cell_type": "code",
   "execution_count": 5,
   "metadata": {},
   "outputs": [
    {
     "data": {
      "text/plain": [
       "Index(['Unnamed: 0', 'genre_ids', 'id', 'original_language', 'original_title',\n",
       "       'popularity', 'release_date', 'title', 'vote_average', 'vote_count'],\n",
       "      dtype='object')"
      ]
     },
     "execution_count": 5,
     "metadata": {},
     "output_type": "execute_result"
    }
   ],
   "source": [
    "df2.columns"
   ]
  },
  {
   "cell_type": "markdown",
   "metadata": {},
   "source": [
    "### Data Understanding\n",
    "Box Office Data (bom.movie_gross.csv)\n",
    "Columns: title, studio, domestic_gross, foreign_gross, year\n",
    "Target Variables: domestic_gross, foreign_gross\n",
    "Movie Ratings Data (tmdbmovie.csv)\n",
    "Columns: movie_id, average_rating, num_votes\n",
    "Target Variables: average_rating, num_votes"
   ]
  },
  {
   "cell_type": "markdown",
   "metadata": {},
   "source": [
    "### Data Preparation\n",
    "We'll clean the data by handling missing values and ensuring consistent data types. We'll merge the datasets on movie_id"
   ]
  },
  {
   "cell_type": "code",
   "execution_count": 6,
   "metadata": {},
   "outputs": [
    {
     "name": "stdout",
     "output_type": "stream",
     "text": [
      "title                0\n",
      "studio               5\n",
      "domestic_gross      28\n",
      "foreign_gross     1350\n",
      "year                 0\n",
      "dtype: int64\n",
      "Unnamed: 0           0\n",
      "genre_ids            0\n",
      "id                   0\n",
      "original_language    0\n",
      "original_title       0\n",
      "popularity           0\n",
      "release_date         0\n",
      "title                0\n",
      "vote_average         0\n",
      "vote_count           0\n",
      "dtype: int64\n"
     ]
    }
   ],
   "source": [
    "# Handling of missing values\n",
    "# identify missing data\n",
    "missing_data1 = df1.isna()\n",
    "missing_data2 = df2.isna()\n",
    "print(df1.isnull().sum())\n",
    "print(df2.isnull().sum())"
   ]
  },
  {
   "cell_type": "code",
   "execution_count": 7,
   "metadata": {},
   "outputs": [],
   "source": [
    "# handle the missing values\n",
    "df1.dropna(subset=['domestic_gross', 'foreign_gross'], inplace=True)"
   ]
  },
  {
   "cell_type": "code",
   "execution_count": 10,
   "metadata": {},
   "outputs": [
    {
     "name": "stdout",
     "output_type": "stream",
     "text": [
      "int32\n",
      "int32\n"
     ]
    }
   ],
   "source": [
    "# Convert gross earnings to numeric, handling commas\n",
    "# replace the NaN values with an integer (0) and change to integer\n",
    "df1['foreign_gross'] = df1['foreign_gross'].astype(str).str.replace('NaN', 'np.nan', regex=False)\n",
    "df1['foreign_gross'] = pd.to_numeric(df1['foreign_gross'], errors='coerce')\n",
    "df1['foreign_gross'] = df1['foreign_gross'].fillna(0)\n",
    "\n",
    "df1['domestic_gross'] = df1['domestic_gross'].astype(str).str.replace('NaN', 'np.nan', regex=False)\n",
    "df1['domestic_gross'] = pd.to_numeric(df1['domestic_gross'], errors='coerce')\n",
    "df1['domestic_gross'] = df1['domestic_gross'].fillna(0)\n",
    "\n",
    "df1.domestic_gross = df1.domestic_gross.astype(int)\n",
    "df1.foreign_gross = df1.foreign_gross.astype(int)\n",
    "\n",
    "print(df1['foreign_gross'].dtype)\n",
    "\n",
    "print(df1['domestic_gross'].dtype)"
   ]
  },
  {
   "cell_type": "code",
   "execution_count": 11,
   "metadata": {},
   "outputs": [
    {
     "name": "stdout",
     "output_type": "stream",
     "text": [
      "<class 'pandas.core.frame.DataFrame'>\n",
      "Index: 2009 entries, 0 to 3353\n",
      "Data columns (total 5 columns):\n",
      " #   Column          Non-Null Count  Dtype \n",
      "---  ------          --------------  ----- \n",
      " 0   title           2009 non-null   object\n",
      " 1   studio          2007 non-null   object\n",
      " 2   domestic_gross  2009 non-null   int32 \n",
      " 3   foreign_gross   2009 non-null   int32 \n",
      " 4   year            2009 non-null   int64 \n",
      "dtypes: int32(2), int64(1), object(2)\n",
      "memory usage: 78.5+ KB\n",
      "None\n",
      "                                         title studio  domestic_gross  \\\n",
      "0                                  Toy Story 3     BV       415000000   \n",
      "1                   Alice in Wonderland (2010)     BV       334200000   \n",
      "2  Harry Potter and the Deathly Hallows Part 1     WB       296000000   \n",
      "3                                    Inception     WB       292600000   \n",
      "4                          Shrek Forever After   P/DW       238700000   \n",
      "\n",
      "   foreign_gross  year  \n",
      "0      652000000  2010  \n",
      "1      691300000  2010  \n",
      "2      664300000  2010  \n",
      "3      535700000  2010  \n",
      "4      513900000  2010  \n"
     ]
    }
   ],
   "source": [
    "# Inspect cleaned data\n",
    "print(df1.info())\n",
    "print(df1.head())"
   ]
  },
  {
   "cell_type": "code",
   "execution_count": 12,
   "metadata": {},
   "outputs": [
    {
     "data": {
      "text/plain": [
       "(26517, 14)"
      ]
     },
     "execution_count": 12,
     "metadata": {},
     "output_type": "execute_result"
    }
   ],
   "source": [
    "# merge the two datasets\n",
    "df3 = pd.merge(df1,df2, on='title', how=\"right\")\n",
    "df3.shape"
   ]
  },
  {
   "cell_type": "markdown",
   "metadata": {},
   "source": [
    "## Data Analysis and Visualization\n",
    "Key Questions:\n",
    "What genres are performing best at the box office?\n",
    "What is the relationship between movie runtime and ratings?\n",
    "How do box office earnings vary across different genres?"
   ]
  },
  {
   "cell_type": "code",
   "execution_count": 13,
   "metadata": {},
   "outputs": [
    {
     "data": {
      "text/plain": [
       "0                NaN\n",
       "1        494900000.0\n",
       "2        623900000.0\n",
       "3                NaN\n",
       "4        828300000.0\n",
       "            ...     \n",
       "26512            NaN\n",
       "26513            NaN\n",
       "26514            NaN\n",
       "26515            NaN\n",
       "26516            NaN\n",
       "Name: total_gross, Length: 26517, dtype: float64"
      ]
     },
     "execution_count": 13,
     "metadata": {},
     "output_type": "execute_result"
    }
   ],
   "source": [
    "# calculate total gross earnings\n",
    "df3['total_gross'] = df3['domestic_gross'] + df3['foreign_gross']\n",
    "df3['total_gross']"
   ]
  },
  {
   "cell_type": "code",
   "execution_count": 14,
   "metadata": {},
   "outputs": [
    {
     "name": "stdout",
     "output_type": "stream",
     "text": [
      "200\n"
     ]
    }
   ],
   "source": [
    "import requests\n",
    "\n",
    "# get genre from TMDB movies through api\n",
    "response = requests.get('https://api.themoviedb.org/3/genre/movie/list?api_key=104bebf4fc2218b241e2351d57278652')\n",
    "print(response.status_code)"
   ]
  },
  {
   "cell_type": "code",
   "execution_count": 15,
   "metadata": {},
   "outputs": [
    {
     "name": "stdout",
     "output_type": "stream",
     "text": [
      "{'genres': [{'id': 28, 'name': 'Action'}, {'id': 12, 'name': 'Adventure'}, {'id': 16, 'name': 'Animation'}, {'id': 35, 'name': 'Comedy'}, {'id': 80, 'name': 'Crime'}, {'id': 99, 'name': 'Documentary'}, {'id': 18, 'name': 'Drama'}, {'id': 10751, 'name': 'Family'}, {'id': 14, 'name': 'Fantasy'}, {'id': 36, 'name': 'History'}, {'id': 27, 'name': 'Horror'}, {'id': 10402, 'name': 'Music'}, {'id': 9648, 'name': 'Mystery'}, {'id': 10749, 'name': 'Romance'}, {'id': 878, 'name': 'Science Fiction'}, {'id': 10770, 'name': 'TV Movie'}, {'id': 53, 'name': 'Thriller'}, {'id': 10752, 'name': 'War'}, {'id': 37, 'name': 'Western'}]}\n"
     ]
    }
   ],
   "source": [
    "print(response.json())"
   ]
  },
  {
   "cell_type": "code",
   "execution_count": 16,
   "metadata": {},
   "outputs": [],
   "source": [
    "# genre mapping from tmdb API\n",
    "genre_mapping = {\n",
    "    28: 'Action',\n",
    "    12: 'Adventure',\n",
    "    16: 'Animation',\n",
    "    35: 'Comedy',\n",
    "    80: 'Crime',\n",
    "    99: 'Documentary',\n",
    "    18: 'Drama',\n",
    "    10751: 'Family',\n",
    "    14: 'Fantasy',\n",
    "    36: 'History', \n",
    "    27: 'Horror',\n",
    "    10402: 'Music',\n",
    "    9648: 'Mystery',\n",
    "    10749: 'Romance',\n",
    "    878: 'Science Fiction',\n",
    "    10770: 'TV Movie',\n",
    "    53: 'Thriller',\n",
    "    10752: 'War',\n",
    "    37: 'Western'\n",
    "}\n",
    "\n",
    "df3['genre'] = df3['genre_ids'].map(genre_mapping)"
   ]
  },
  {
   "cell_type": "code",
   "execution_count": 24,
   "metadata": {},
   "outputs": [],
   "source": [
    "# Summary statistics for numerical columns\n",
    "summary_stats = df3.describe()"
   ]
  },
  {
   "cell_type": "code",
   "execution_count": 26,
   "metadata": {},
   "outputs": [
    {
     "name": "stderr",
     "output_type": "stream",
     "text": [
      "c:\\Users\\DAVE\\anaconda3\\Lib\\site-packages\\seaborn\\_oldcore.py:1119: FutureWarning: use_inf_as_na option is deprecated and will be removed in a future version. Convert inf values to NaN before operating instead.\n",
      "  with pd.option_context('mode.use_inf_as_na', True):\n",
      "c:\\Users\\DAVE\\anaconda3\\Lib\\site-packages\\seaborn\\_oldcore.py:1119: FutureWarning: use_inf_as_na option is deprecated and will be removed in a future version. Convert inf values to NaN before operating instead.\n",
      "  with pd.option_context('mode.use_inf_as_na', True):\n"
     ]
    },
    {
     "data": {
      "image/png": "[encoded data removed]",
      "text/plain": [
       "<Figure size 1200x600 with 2 Axes>"
      ]
     },
     "metadata": {},
     "output_type": "display_data"
    }
   ],
   "source": [
    "# Distribution of domestic and foreign gross earnings\n",
    "plt.figure(figsize=(12, 6))\n",
    "\n",
    "plt.subplot(1, 2, 1)\n",
    "sns.histplot(df3['domestic_gross'], kde=True, bins=30)\n",
    "plt.title('Distribution of Domestic Gross Earnings')\n",
    "\n",
    "plt.subplot(1, 2, 2)\n",
    "sns.histplot(df3['foreign_gross'], kde=True, bins=30)\n",
    "plt.title('Distribution of Foreign Gross Earnings')\n",
    "\n",
    "plt.tight_layout()\n",
    "plt.show()"
   ]
  },
  {
   "cell_type": "code",
   "execution_count": null,
   "metadata": {},
   "outputs": [],
   "source": []
  }
 ],
 "metadata": {
  "kernelspec": {
   "display_name": "base",
   "language": "python",
   "name": "python3"
  },
  "language_info": {
   "codemirror_mode": {
    "name": "ipython",
    "version": 3
   },
   "file_extension": ".py",
   "mimetype": "text/x-python",
   "name": "python",
   "nbconvert_exporter": "python",
   "pygments_lexer": "ipython3",
   "version": "3.11.7"
  }
 },
 "nbformat": 4,
 "nbformat_minor": 2
}
