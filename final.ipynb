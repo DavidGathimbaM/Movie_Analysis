{
 "cells": [
  {
   "cell_type": "markdown",
   "metadata": {},
   "source": [
    "## Project Overview\n",
    "In this project, we aim to provide insights for Microsoft's new movie studio by analyzing movie data from Box Office Mojo and TMDB. The business problem is to understand which types of films are currently successful at the box office. We will use the bom.movie_gross.csv and tmdb.movies.csv datasets to explore film genres, ratings, and earnings. Our analysis will involve data cleaning, exploration, and visualization using pandas and seaborn. Based on our findings, we will offer recommendations to help Microsoft decide what types of films to produce."
   ]
  },
  {
   "cell_type": "markdown",
   "metadata": {},
   "source": [
    "## Business Problem:\n",
    "Microsoft wants to enter the movie industry but lacks insights into what types of films are currently successful. The key questions we aim to answer are:\n",
    "\n",
    "What genres are performing best at the box office?\n",
    "What is the relationship between movie ratings and earnings?\n",
    "How do box office earnings vary across different genres?\n",
    "These questions are crucial for Microsoft to make informed decisions about the types of films to create, ensuring they invest in genres that attract large audiences and generate high revenue."
   ]
  },
  {
   "cell_type": "markdown",
   "metadata": {},
   "source": [
    "### Data Understanding:\n",
    "The data for this project comes from Box Office Mojo and IMDB."
   ]
  },
  {
   "cell_type": "code",
   "execution_count": 2,
   "metadata": {},
   "outputs": [],
   "source": [
    "# import packages\n",
    "import pandas as pd\n",
    "import csv\n",
    "import numpy as np\n",
    "import matplotlib.pyplot as plt"
   ]
  },
  {
   "cell_type": "code",
   "execution_count": 3,
   "metadata": {},
   "outputs": [
    {
     "name": "stdout",
     "output_type": "stream",
     "text": [
      "                                         title studio  domestic_gross  \\\n",
      "0                                  Toy Story 3     BV     415000000.0   \n",
      "1                   Alice in Wonderland (2010)     BV     334200000.0   \n",
      "2  Harry Potter and the Deathly Hallows Part 1     WB     296000000.0   \n",
      "3                                    Inception     WB     292600000.0   \n",
      "4                          Shrek Forever After   P/DW     238700000.0   \n",
      "\n",
      "  foreign_gross  year  \n",
      "0     652000000  2010  \n",
      "1     691300000  2010  \n",
      "2     664300000  2010  \n",
      "3     535700000  2010  \n",
      "4     513900000  2010  \n",
      "   Unnamed: 0            genre_ids     id original_language  \\\n",
      "0           0      [12, 14, 10751]  12444                en   \n",
      "1           1  [14, 12, 16, 10751]  10191                en   \n",
      "2           2        [12, 28, 878]  10138                en   \n",
      "3           3      [16, 35, 10751]    862                en   \n",
      "4           4        [28, 878, 12]  27205                en   \n",
      "\n",
      "                                 original_title  popularity release_date  \\\n",
      "0  Harry Potter and the Deathly Hallows: Part 1      33.533   2010-11-19   \n",
      "1                      How to Train Your Dragon      28.734   2010-03-26   \n",
      "2                                    Iron Man 2      28.515   2010-05-07   \n",
      "3                                     Toy Story      28.005   1995-11-22   \n",
      "4                                     Inception      27.920   2010-07-16   \n",
      "\n",
      "                                          title  vote_average  vote_count  \n",
      "0  Harry Potter and the Deathly Hallows: Part 1           7.7       10788  \n",
      "1                      How to Train Your Dragon           7.7        7610  \n",
      "2                                    Iron Man 2           6.8       12368  \n",
      "3                                     Toy Story           7.9       10174  \n",
      "4                                     Inception           8.3       22186  \n"
     ]
    }
   ],
   "source": [
    "# load data\n",
    "df1 = pd.read_csv('Data/bom.movie_gross.csv')\n",
    "df2 = pd.read_csv('Data/tmdb.movies.csv')\n",
    "\n",
    "# inspect the data\n",
    "print(df1.head())\n",
    "print(df2.head())"
   ]
  },
  {
   "cell_type": "code",
   "execution_count": null,
   "metadata": {},
   "outputs": [],
   "source": [
    "# Inspect the data\n"
   ]
  }
 ],
 "metadata": {
  "kernelspec": {
   "display_name": "base",
   "language": "python",
   "name": "python3"
  },
  "language_info": {
   "codemirror_mode": {
    "name": "ipython",
    "version": 3
   },
   "file_extension": ".py",
   "mimetype": "text/x-python",
   "name": "python",
   "nbconvert_exporter": "python",
   "pygments_lexer": "ipython3",
   "version": "3.11.7"
  }
 },
 "nbformat": 4,
 "nbformat_minor": 2
}
