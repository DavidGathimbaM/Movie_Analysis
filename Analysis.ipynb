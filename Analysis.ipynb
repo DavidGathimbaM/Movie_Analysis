{
 "cells": [
  {
   "cell_type": "markdown",
   "metadata": {},
   "source": [
    "# From data to decisions: Understanding movie success through rotten tomatoes and TMDB\n",
    "\n",
    "**Author:** David Mwai Gathimba"
   ]
  },
  {
   "cell_type": "markdown",
   "metadata": {},
   "source": [
    "## Project Overview\n",
    "\n",
    "In this project, we are going to provide a data-driven report to Microsoft's new movie studio on the success factors of movies using data from Rotten Tomatoes and TMDB. One of the basic business questions for Microsoft is figuring out which types of movies are likely to do the best in theaters—since the company has virtually no experience in the world of making motion pictures. To look for the trends and correlations, we use datasets of movie reviews, movie ratings, and movie popularity metrics. We walk through data cleaning, exploratory data analysis, and visualization to expose leading indicators. The results also show that success is associated with key factors including genre, review scores, and popularity. According to the results, we suggest that Microsoft should make movies with good ratings and movements in popular genres to get the highest possible performance in the competitive movie circle.\n"
   ]
  },
  {
   "cell_type": "markdown",
   "metadata": {},
   "source": [
    "## Business Problem\n",
    "***\n",
    "Microsoft is in the process of launching a new film studio, entering into the competitive film industry, which they have no experience with, thus the reason they are leveraging data to do so. The business problem we are trying to solve is to find out the most important features which influence the revenue and popularity of movies. In this post, we will answer a couple of data questions on the observation: What types of movies are doing well at the box office scene genre-wise? Do Rotten Tomatoes film scores affect box office revenue? How does the popularity of a movie on TMDB relate to its box-office performance? What difference would it make to a movie whether these attributes like run time or period of a release play a vital role in determining the success of a movie? So what about those insights for Microsoft, to inform their entry into movie production in a strategic way?\n",
    "\n",
    "These queries are designed to directly correlate to quantitative properties of movies, and are looking for patterns or trends the data might reveal, to advise Microsoft at the strategy level. Having insight into these factors is essential for Microsoft to mitigate costs, allocate resources efficiently, and ensure its movie studio has the best chance of success in an already crowded market. In addition to genre popularity and the effect of reviews and popularity, we will use 10-fold cross-validation to foresee potential box office performance that could act as a guide star for Microsoft, which tries to be smarter about producing data-driven production decisions.\n",
    "***"
   ]
  },
  {
   "cell_type": "markdown",
   "metadata": {},
   "source": [
    "## Data Understanding\n",
    "***\n",
    "The data used in this project comes from two primary sources: Rotten Tomatoes (rt.reviews.tsv) and TheMovieDB (tmdb.movies.csv). These datasets provide a comprehensive view of movie reviews, ratings, and popularity, which are essential for analyzing the factors that contribute to a movie's success.\n",
    "\n",
    "The Rotten Tomatoes dataset includes reviews and ratings for a wide range of movies. This data is crucial for understanding how critical reception correlates with box office performance. Key variables in this dataset include the movie title, review scores, and the number of reviews. The sample consists of various movies reviewed on the Rotten Tomatoes platform, capturing both popular and niche films.\n",
    "\n",
    "The TMDB dataset contains detailed information about movies listed on TheMovieDB, including attributes such as movie title, genre, popularity scores, release dates, and runtime. This dataset helps us analyze how movie characteristics and their popularity on a major database influence their success. The key variables here include the movie title, genre, popularity score, release date, and runtime. The sample encompasses a diverse array of movies from different genres and periods.\n",
    "\n",
    "Our target variable in this analysis is the box office revenue, which, although not directly included in the provided datasets, can be inferred or matched from external sources if needed. For this project, we focus on understanding how the review scores from Rotten Tomatoes and the popularity scores from TMDB influence a movie's box office success.\n",
    "\n",
    "The properties of the variables we intend to use include:\n",
    "- *Review Scores (Rotten Tomatoes):* Represents the average rating given by critics or users. This variable is numerical and ranges from 0 to 100.\n",
    "- *Popularity Scores (TMDB):* Indicates the popularity of a movie on TheMovieDB platform. This is a numerical variable with values reflecting the relative popularity of the movies.\n",
    "- *Genres:* Categorical variable representing the movie genre (e.g., Action, Drama, Comedy).\n",
    "- *Release Dates:* Temporal variable indicating when the movie was released.\n",
    "- *Runtime:* Numerical variable representing the duration of the movie in minutes.\n",
    "\n",
    "These variables provide a robust basis for exploring the correlations and trends that can inform Microsoft's movie production strategy.\n",
    "***"
   ]
  },
  {
   "cell_type": "code",
   "execution_count": 1,
   "metadata": {},
   "outputs": [],
   "source": [
    "# Import standard packages\n",
    "import pandas as pd\n",
    "import numpy as np\n",
    "import matplotlib.pyplot as plt\n",
    "import seaborn as sns"
   ]
  },
  {
   "cell_type": "code",
   "execution_count": 9,
   "metadata": {},
   "outputs": [
    {
     "name": "stdout",
     "output_type": "stream",
     "text": [
      "   id                                             review rating   fresh  \\\n",
      "0   3  A distinctly gallows take on contemporary fina...    3/5   fresh   \n",
      "1   3  It's an allegory in search of a meaning that n...    NaN  rotten   \n",
      "2   3  ... life lived in a bubble in financial dealin...    NaN   fresh   \n",
      "3   3  Continuing along a line introduced in last yea...    NaN   fresh   \n",
      "4   3             ... a perverse twist on neorealism...     NaN   fresh   \n",
      "\n",
      "           critic  top_critic         publisher               date  \n",
      "0      PJ Nabarro           0   Patrick Nabarro  November 10, 2018  \n",
      "1  Annalee Newitz           0           io9.com       May 23, 2018  \n",
      "2    Sean Axmaker           0  Stream on Demand    January 4, 2018  \n",
      "3   Daniel Kasman           0              MUBI  November 16, 2017  \n",
      "4             NaN           0      Cinema Scope   October 12, 2017  \n",
      "   Unnamed: 0            genre_ids     id original_language  \\\n",
      "0           0      [12, 14, 10751]  12444                en   \n",
      "1           1  [14, 12, 16, 10751]  10191                en   \n",
      "2           2        [12, 28, 878]  10138                en   \n",
      "3           3      [16, 35, 10751]    862                en   \n",
      "4           4        [28, 878, 12]  27205                en   \n",
      "\n",
      "                                 original_title  popularity release_date  \\\n",
      "0  Harry Potter and the Deathly Hallows: Part 1      33.533   2010-11-19   \n",
      "1                      How to Train Your Dragon      28.734   2010-03-26   \n",
      "2                                    Iron Man 2      28.515   2010-05-07   \n",
      "3                                     Toy Story      28.005   1995-11-22   \n",
      "4                                     Inception      27.920   2010-07-16   \n",
      "\n",
      "                                          title  vote_average  vote_count  \n",
      "0  Harry Potter and the Deathly Hallows: Part 1           7.7       10788  \n",
      "1                      How to Train Your Dragon           7.7        7610  \n",
      "2                                    Iron Man 2           6.8       12368  \n",
      "3                                     Toy Story           7.9       10174  \n",
      "4                                     Inception           8.3       22186  \n"
     ]
    }
   ],
   "source": [
    "# Loading the data\n",
    "# Load Rotten Tomatoes reviews data\n",
    "rt_reviews = pd.read_csv('Data/rt.reviews.tsv', delimiter='\\t',  encoding='latin-1')\n",
    "\n",
    "# Load TMDB movies data\n",
    "tmdb_reviews = pd.read_csv('Data/tmdb.movies.csv')\n",
    "\n",
    "# First few rows of each\n",
    "print(rt_reviews.head())\n",
    "print(tmdb_reviews.head())"
   ]
  },
  {
   "cell_type": "code",
   "execution_count": null,
   "metadata": {},
   "outputs": [],
   "source": []
  }
 ],
 "metadata": {
  "kernelspec": {
   "display_name": "base",
   "language": "python",
   "name": "python3"
  },
  "language_info": {
   "codemirror_mode": {
    "name": "ipython",
    "version": 3
   },
   "file_extension": ".py",
   "mimetype": "text/x-python",
   "name": "python",
   "nbconvert_exporter": "python",
   "pygments_lexer": "ipython3",
   "version": "3.11.7"
  }
 },
 "nbformat": 4,
 "nbformat_minor": 2
}
